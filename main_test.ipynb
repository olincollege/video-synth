{
 "cells": [
  {
   "cell_type": "code",
   "execution_count": 1,
   "metadata": {},
   "outputs": [],
   "source": [
    "%load_ext autoreload\n",
    "%autoreload 2"
   ]
  },
  {
   "cell_type": "code",
   "execution_count": 7,
   "metadata": {},
   "outputs": [],
   "source": [
    "from model_video_synth import VideoSynth\n",
    "from controller_video_synth import YtController\n",
    "from video_synth_view import ProcessingView\n",
    "from processing_py import *"
   ]
  },
  {
   "cell_type": "code",
   "execution_count": 3,
   "metadata": {},
   "outputs": [
    {
     "name": "stdout",
     "output_type": "stream",
     "text": [
      "Paste in a youtube link that you want to visualize!https://www.youtube.com/watch?v=fHI8X4OXluQ\n",
      "[youtube] fHI8X4OXluQ: Downloading webpage\n",
      "[download] Destination: audio_files/The Weeknd - Blinding Lights (Official Audio).webm\n",
      "[download] 100% of 3.16MiB in 00:0095MiB/s ETA 00:00:03\n",
      "[ffmpeg] Destination: audio_files/The Weeknd - Blinding Lights (Official Audio).mp3\n",
      "Deleting original file audio_files/The Weeknd - Blinding Lights (Official Audio).webm (pass -k to keep)\n",
      "Paste the title of the youtube videoThe Weeknd - Blinding Lights (Official Audio)\n"
     ]
    },
    {
     "name": "stderr",
     "output_type": "stream",
     "text": [
      "/home/softdes/anaconda3/lib/python3.8/site-packages/librosa/core/audio.py:162: UserWarning: PySoundFile failed. Trying audioread instead.\n",
      "  warnings.warn(\"PySoundFile failed. Trying audioread instead.\")\n"
     ]
    }
   ],
   "source": [
    "synth = VideoSynth()\n",
    "controller = YtController(synth)\n",
    "controller.create_file_path()\n",
    "synth.create_audio_features_list()"
   ]
  },
  {
   "cell_type": "code",
   "execution_count": null,
   "metadata": {},
   "outputs": [],
   "source": [
    "# https://www.youtube.com/watch?v=fHI8X4OXluQ\n",
    "# The Weeknd - Blinding Lights (Official Audio)"
   ]
  },
  {
   "cell_type": "code",
   "execution_count": 8,
   "metadata": {
    "scrolled": true
   },
   "outputs": [
    {
     "name": "stderr",
     "output_type": "stream",
     "text": [
      "Starting App...\n",
      ">> [Jython] Created!\n",
      "\n"
     ]
    }
   ],
   "source": [
    "app = App(600,600)\n",
    "app.background(0,0,0)\n",
    "app.noFill()\n",
    "app.redraw()\n",
    "view = ProcessingView(synth.audio_features_list(), app)"
   ]
  },
  {
   "cell_type": "code",
   "execution_count": 9,
   "metadata": {},
   "outputs": [],
   "source": [
    "view.draw()"
   ]
  },
  {
   "cell_type": "code",
   "execution_count": null,
   "metadata": {},
   "outputs": [],
   "source": [
    "print(synth._harmonic)"
   ]
  }
 ],
 "metadata": {
  "kernelspec": {
   "display_name": "Python 3",
   "language": "python",
   "name": "python3"
  },
  "language_info": {
   "codemirror_mode": {
    "name": "ipython",
    "version": 3
   },
   "file_extension": ".py",
   "mimetype": "text/x-python",
   "name": "python",
   "nbconvert_exporter": "python",
   "pygments_lexer": "ipython3",
   "version": "3.8.5"
  }
 },
 "nbformat": 4,
 "nbformat_minor": 4
}
