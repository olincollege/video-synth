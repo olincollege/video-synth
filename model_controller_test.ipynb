{
 "cells": [
  {
   "cell_type": "code",
   "execution_count": 1,
   "metadata": {},
   "outputs": [],
   "source": [
    "%load_ext autoreload\n",
    "%autoreload 2"
   ]
  },
  {
   "cell_type": "code",
   "execution_count": 2,
   "metadata": {},
   "outputs": [],
   "source": [
    "from model_video_synth import VideoSynth\n",
    "from controller_video_synth import YtController"
   ]
  },
  {
   "cell_type": "code",
   "execution_count": 3,
   "metadata": {},
   "outputs": [
    {
     "name": "stdout",
     "output_type": "stream",
     "text": [
      "Paste in a youtube link that you want to visualize!https://www.youtube.com/watch?v=fHI8X4OXluQ\n",
      "[youtube] fHI8X4OXluQ: Downloading webpage\n",
      "[download] Destination: audio_files/The Weeknd - Blinding Lights (Official Audio).webm\n",
      "[download] 100% of 3.16MiB in 00:0060MiB/s ETA 00:005\n",
      "[ffmpeg] Destination: audio_files/The Weeknd - Blinding Lights (Official Audio).mp3\n",
      "Deleting original file audio_files/The Weeknd - Blinding Lights (Official Audio).webm (pass -k to keep)\n",
      "Paste the title of the youtube videoThe Weeknd - Blinding Lights (Official Audio)\n"
     ]
    }
   ],
   "source": [
    "synth = VideoSynth()\n",
    "controller = YtController(synth)\n",
    "controller.create_file_path()"
   ]
  },
  {
   "cell_type": "code",
   "execution_count": 4,
   "metadata": {},
   "outputs": [
    {
     "name": "stdout",
     "output_type": "stream",
     "text": [
      "audio_files/The Weeknd - Blinding Lights (Official Audio).mp3\n"
     ]
    }
   ],
   "source": [
    "print(synth._file_path)"
   ]
  },
  {
   "cell_type": "code",
   "execution_count": 17,
   "metadata": {},
   "outputs": [
    {
     "name": "stderr",
     "output_type": "stream",
     "text": [
      "/home/softdes/anaconda3/lib/python3.8/site-packages/librosa/core/audio.py:162: UserWarning: PySoundFile failed. Trying audioread instead.\n",
      "  warnings.warn(\"PySoundFile failed. Trying audioread instead.\")\n"
     ]
    }
   ],
   "source": [
    "synth.create_audio_features_list()"
   ]
  },
  {
   "cell_type": "code",
   "execution_count": 20,
   "metadata": {},
   "outputs": [
    {
     "name": "stdout",
     "output_type": "stream",
     "text": [
      "[array([0., 0., 0., ..., 0., 0., 0.], dtype=float32), array([ 0,  0,  0, ..., 11, 11, 11])]\n"
     ]
    }
   ],
   "source": [
    "print(synth.audio_features_list())"
   ]
  }
 ],
 "metadata": {
  "kernelspec": {
   "display_name": "Python 3",
   "language": "python",
   "name": "python3"
  },
  "language_info": {
   "codemirror_mode": {
    "name": "ipython",
    "version": 3
   },
   "file_extension": ".py",
   "mimetype": "text/x-python",
   "name": "python",
   "nbconvert_exporter": "python",
   "pygments_lexer": "ipython3",
   "version": "3.8.5"
  }
 },
 "nbformat": 4,
 "nbformat_minor": 4
}
