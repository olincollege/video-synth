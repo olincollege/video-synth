{
 "cells": [
  {
   "cell_type": "code",
   "execution_count": 2,
   "metadata": {},
   "outputs": [],
   "source": [
    "%load_ext autoreload\n",
    "%autoreload 2"
   ]
  },
  {
   "cell_type": "code",
   "execution_count": 3,
   "metadata": {},
   "outputs": [],
   "source": [
    "from model_video_synth import VideoSynth\n",
    "from controller_video_synth import YtController"
   ]
  },
  {
   "cell_type": "code",
   "execution_count": 10,
   "metadata": {},
   "outputs": [
    {
     "output_type": "stream",
     "name": "stdout",
     "text": [
      "[youtube] j9bIL53BxsI: Downloading webpage\n",
      "[download] Destination: audio_files/UHHH.m4a\n",
      "[download] 100% of 1.35MiB in 00:00\n",
      "[ffmpeg] Correcting container in \"audio_files/UHHH.m4a\"\n",
      "[ffmpeg] Destination: audio_files/UHHH.mp3\n",
      "Deleting original file audio_files/UHHH.m4a (pass -k to keep)\n"
     ]
    }
   ],
   "source": [
    "#Creates a VideoSynth model\n",
    "synth = VideoSynth()\n",
    "#Creates a youtube controller for the VideoSynth model\n",
    "controller = YtController(synth)\n",
    "#Uses the controller to create a file path and file\n",
    "controller.create_file_path()"
   ]
  },
  {
   "cell_type": "code",
   "execution_count": 8,
   "metadata": {},
   "outputs": [
    {
     "output_type": "stream",
     "name": "stdout",
     "text": [
      "audio_files/.mp3\n"
     ]
    }
   ],
   "source": [
    "#Test that file path was properly set in the model\n",
    "print(synth._file_path)"
   ]
  },
  {
   "cell_type": "code",
   "execution_count": 11,
   "metadata": {},
   "outputs": [
    {
     "output_type": "stream",
     "name": "stderr",
     "text": [
      "/home/softdes/anaconda3/lib/python3.8/site-packages/librosa/core/audio.py:162: UserWarning: PySoundFile failed. Trying audioread instead.\n",
      "  warnings.warn(\"PySoundFile failed. Trying audioread instead.\")\n",
      "1921024 and 3753\n"
     ]
    }
   ],
   "source": [
    "synth.create_audio_features_list()"
   ]
  }
 ],
 "metadata": {
  "kernelspec": {
   "name": "python385jvsc74a57bd0260690d7ac04fdbcd9c6f8efa93e31d8a25398d3e23f9493d65478f1ac089f35",
   "display_name": "Python 3.8.5 64-bit ('base': conda)"
  },
  "language_info": {
   "codemirror_mode": {
    "name": "ipython",
    "version": 3
   },
   "file_extension": ".py",
   "mimetype": "text/x-python",
   "name": "python",
   "nbconvert_exporter": "python",
   "pygments_lexer": "ipython3",
   "version": "3.8.5"
  },
  "metadata": {
   "interpreter": {
    "hash": "260690d7ac04fdbcd9c6f8efa93e31d8a25398d3e23f9493d65478f1ac089f35"
   }
  }
 },
 "nbformat": 4,
 "nbformat_minor": 4
}