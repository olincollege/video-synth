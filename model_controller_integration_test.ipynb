{
 "cells": [
  {
   "cell_type": "code",
   "execution_count": 1,
   "metadata": {},
   "outputs": [],
   "source": [
    "%load_ext autoreload\n",
    "%autoreload 2"
   ]
  },
  {
   "cell_type": "code",
   "execution_count": 2,
   "metadata": {},
   "outputs": [],
   "source": [
    "from model_video_synth import VideoSynth\n",
    "from controller_video_synth import YtController"
   ]
  },
  {
   "cell_type": "code",
   "execution_count": 5,
   "metadata": {},
   "outputs": [
    {
     "name": "stdout",
     "output_type": "stream",
     "text": [
      "Paste in a youtube link that you want to visualize!https://www.youtube.com/watch?v=fHI8X4OXluQ\n",
      "[youtube] fHI8X4OXluQ: Downloading webpage\n",
      "[download] Destination: audio_files/The Weeknd - Blinding Lights (Official Audio).webm\n",
      "[download] 100% of 3.16MiB in 00:0071MiB/s ETA 00:003\n",
      "[ffmpeg] Destination: audio_files/The Weeknd - Blinding Lights (Official Audio).mp3\n",
      "Deleting original file audio_files/The Weeknd - Blinding Lights (Official Audio).webm (pass -k to keep)\n"
     ]
    }
   ],
   "source": [
    "#Creates a VideoSynth model\n",
    "synth = VideoSynth()\n",
    "#Creates a youtube controller for the VideoSynth model\n",
    "controller = YtController(synth)\n",
    "#Uses the controller to create a file path and file\n",
    "controller.create_file_path()"
   ]
  },
  {
   "cell_type": "code",
   "execution_count": 6,
   "metadata": {},
   "outputs": [
    {
     "name": "stdout",
     "output_type": "stream",
     "text": [
      "audio_files/%(title)s.%(ext)s\n"
     ]
    }
   ],
   "source": [
    "#Test that file path was properly set in the model\n",
    "print(synth._file_path)"
   ]
  }
 ],
 "metadata": {
  "kernelspec": {
   "display_name": "Python 3",
   "language": "python",
   "name": "python3"
  },
  "language_info": {
   "codemirror_mode": {
    "name": "ipython",
    "version": 3
   },
   "file_extension": ".py",
   "mimetype": "text/x-python",
   "name": "python",
   "nbconvert_exporter": "python",
   "pygments_lexer": "ipython3",
   "version": "3.8.5"
  }
 },
 "nbformat": 4,
 "nbformat_minor": 4
}
